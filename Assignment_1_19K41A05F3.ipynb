{
  "nbformat": 4,
  "nbformat_minor": 0,
  "metadata": {
    "colab": {
      "name": "Assignment-1_19K41A05F3.ipynb",
      "provenance": [],
      "collapsed_sections": [],
      "authorship_tag": "ABX9TyMkyc57ZJX7lzwlHIsLuGi4",
      "include_colab_link": true
    },
    "kernelspec": {
      "name": "python3",
      "display_name": "Python 3"
    },
    "language_info": {
      "name": "python"
    }
  },
  "cells": [
    {
      "cell_type": "markdown",
      "metadata": {
        "id": "view-in-github",
        "colab_type": "text"
      },
      "source": [
        "<a href=\"https://colab.research.google.com/github/19K41A05F3/AI/blob/main/Assignment_1_19K41A05F3.ipynb\" target=\"_parent\"><img src=\"https://colab.research.google.com/assets/colab-badge.svg\" alt=\"Open In Colab\"/></a>"
      ]
    },
    {
      "cell_type": "code",
      "metadata": {
        "colab": {
          "base_uri": "https://localhost:8080/"
        },
        "id": "6HXHChwXelT2",
        "outputId": "66ed68e2-1183-4c12-f6b4-1613a2e6b85d"
      },
      "source": [
        "#let w be area for growing wheat\n",
        "#let b be area for growing barley\n",
        "#Objective function : 50w + 120b\n",
        "#Inequality constraints\n",
        "#7000w + 2000b <= 700000\n",
        "#10w + 30b <= 1200\n",
        "#w + b <= 110\n",
        "#Boundaries : w>=0,b>=0 \n",
        "from scipy.optimize import linprog\n",
        "objfun=[-50,-120]\n",
        "a_ieq=[[7000,2000],[10,30],[1,1]]\n",
        "b_ieq=[700000,1200,110]\n",
        "bound=[(0,float('inf')),(0,float('inf'))]\n",
        "p=linprog(c=objfun,A_ub=a_ieq,b_ub=b_ieq,A_eq=None,b_eq=None,bounds=bound,method=\"Simplex\")\n",
        "p.x\n",
        "print('Area for growing Wheat : ',round(p.x[0]))\n",
        "print('Area for growing Barley : ',round(p.x[1]))"
      ],
      "execution_count": null,
      "outputs": [
        {
          "output_type": "stream",
          "text": [
            "Area for growing Wheat :  98\n",
            "Area for growing Barley :  7\n"
          ],
          "name": "stdout"
        }
      ]
    }
  ]
}